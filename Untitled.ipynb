{
 "cells": [
  {
   "cell_type": "code",
   "execution_count": 1,
   "id": "preliminary-america",
   "metadata": {},
   "outputs": [],
   "source": [
    "# !pip install mysql\n",
    "import mysql.connector\n",
    "conn = mysql.connector.connect(host='localhost',database='db1',user='root',password='')\n"
   ]
  },
  {
   "cell_type": "code",
   "execution_count": 2,
   "id": "protecting-happening",
   "metadata": {},
   "outputs": [],
   "source": [
    "def call_f2(i):\n",
    "#     print(\"int f2\",i)\n",
    "    src = 'f1/'\n",
    "    dest = 'f2/'\n",
    "    allf = os.listdir(src)\n",
    "    for j in allf:\n",
    "        shutil.move(src + j, dest + j)\n",
    "    time.sleep(5)    \n",
    "    if i%10==0:\n",
    "        call_f3(i)\n",
    "        \n",
    "def call_f3(i):\n",
    "#     print(\"in f3\",i)\n",
    "    src = 'f2/'\n",
    "    dest = 'f3/'\n",
    "    allf = os.listdir(src)\n",
    "    for j in allf:\n",
    "        shutil.move(src + j, dest + j)    \n",
    "        query = \"UPDATE tb1 SET status = %s WHERE text1 = %s\"\n",
    "#         print(j)\n",
    "        val=(1,j)\n",
    "        cur = conn.cursor()\n",
    "        cur.execute(query,val)\n",
    "        conn.commit()\n",
    "        cur.close()\n",
    "    time.sleep(10)        "
   ]
  },
  {
   "cell_type": "code",
   "execution_count": 4,
   "id": "musical-mauritius",
   "metadata": {},
   "outputs": [
    {
     "name": "stdout",
     "output_type": "stream",
     "text": [
      "int f2 5\n",
      "int f2 10\n",
      "in f3 10\n",
      "0.txt\n",
      "1.txt\n",
      "2.txt\n",
      "20.txt\n",
      "21.txt\n",
      "22.txt\n",
      "23.txt\n",
      "24.txt\n",
      "3.txt\n",
      "4.txt\n",
      "5.txt\n",
      "6.txt\n",
      "7.txt\n",
      "8.txt\n",
      "9.txt\n",
      "int f2 15\n",
      "int f2 20\n",
      "in f3 20\n",
      "10.txt\n",
      "11.txt\n",
      "12.txt\n",
      "13.txt\n",
      "14.txt\n",
      "15.txt\n",
      "16.txt\n",
      "17.txt\n",
      "18.txt\n",
      "19.txt\n",
      "int f2 25\n",
      "int f2 30\n",
      "in f3 30\n",
      "20.txt\n",
      "21.txt\n",
      "22.txt\n",
      "23.txt\n",
      "24.txt\n",
      "25.txt\n",
      "26.txt\n",
      "27.txt\n",
      "28.txt\n",
      "29.txt\n",
      "int f2 35\n",
      "int f2 40\n",
      "in f3 40\n",
      "30.txt\n",
      "31.txt\n",
      "32.txt\n",
      "33.txt\n",
      "34.txt\n",
      "35.txt\n",
      "36.txt\n",
      "37.txt\n",
      "38.txt\n",
      "39.txt\n",
      "int f2 45\n",
      "int f2 50\n"
     ]
    },
    {
     "ename": "KeyboardInterrupt",
     "evalue": "",
     "output_type": "error",
     "traceback": [
      "\u001b[1;31m---------------------------------------------------------------------------\u001b[0m",
      "\u001b[1;31mKeyboardInterrupt\u001b[0m                         Traceback (most recent call last)",
      "\u001b[1;32m<ipython-input-4-32874deb32f9>\u001b[0m in \u001b[0;36m<module>\u001b[1;34m\u001b[0m\n\u001b[0;32m     18\u001b[0m     \u001b[0mtime\u001b[0m\u001b[1;33m.\u001b[0m\u001b[0msleep\u001b[0m\u001b[1;33m(\u001b[0m\u001b[1;36m1\u001b[0m\u001b[1;33m)\u001b[0m\u001b[1;33m\u001b[0m\u001b[1;33m\u001b[0m\u001b[0m\n\u001b[0;32m     19\u001b[0m     \u001b[1;32mif\u001b[0m \u001b[0mi\u001b[0m\u001b[1;33m%\u001b[0m\u001b[1;36m5\u001b[0m\u001b[1;33m==\u001b[0m\u001b[1;36m0\u001b[0m\u001b[1;33m:\u001b[0m\u001b[1;33m\u001b[0m\u001b[1;33m\u001b[0m\u001b[0m\n\u001b[1;32m---> 20\u001b[1;33m         \u001b[0mcall_f2\u001b[0m\u001b[1;33m(\u001b[0m\u001b[0mi\u001b[0m\u001b[1;33m)\u001b[0m\u001b[1;33m\u001b[0m\u001b[1;33m\u001b[0m\u001b[0m\n\u001b[0m",
      "\u001b[1;32m<ipython-input-2-da5e5f3ff509>\u001b[0m in \u001b[0;36mcall_f2\u001b[1;34m(i)\u001b[0m\n\u001b[0;32m      6\u001b[0m     \u001b[1;32mfor\u001b[0m \u001b[0mj\u001b[0m \u001b[1;32min\u001b[0m \u001b[0mallf\u001b[0m\u001b[1;33m:\u001b[0m\u001b[1;33m\u001b[0m\u001b[1;33m\u001b[0m\u001b[0m\n\u001b[0;32m      7\u001b[0m         \u001b[0mshutil\u001b[0m\u001b[1;33m.\u001b[0m\u001b[0mmove\u001b[0m\u001b[1;33m(\u001b[0m\u001b[0msrc\u001b[0m \u001b[1;33m+\u001b[0m \u001b[0mj\u001b[0m\u001b[1;33m,\u001b[0m \u001b[0mdest\u001b[0m \u001b[1;33m+\u001b[0m \u001b[0mj\u001b[0m\u001b[1;33m)\u001b[0m\u001b[1;33m\u001b[0m\u001b[1;33m\u001b[0m\u001b[0m\n\u001b[1;32m----> 8\u001b[1;33m     \u001b[0mtime\u001b[0m\u001b[1;33m.\u001b[0m\u001b[0msleep\u001b[0m\u001b[1;33m(\u001b[0m\u001b[1;36m5\u001b[0m\u001b[1;33m)\u001b[0m\u001b[1;33m\u001b[0m\u001b[1;33m\u001b[0m\u001b[0m\n\u001b[0m\u001b[0;32m      9\u001b[0m     \u001b[1;32mif\u001b[0m \u001b[0mi\u001b[0m\u001b[1;33m%\u001b[0m\u001b[1;36m10\u001b[0m\u001b[1;33m==\u001b[0m\u001b[1;36m0\u001b[0m\u001b[1;33m:\u001b[0m\u001b[1;33m\u001b[0m\u001b[1;33m\u001b[0m\u001b[0m\n\u001b[0;32m     10\u001b[0m         \u001b[0mcall_f3\u001b[0m\u001b[1;33m(\u001b[0m\u001b[0mi\u001b[0m\u001b[1;33m)\u001b[0m\u001b[1;33m\u001b[0m\u001b[1;33m\u001b[0m\u001b[0m\n",
      "\u001b[1;31mKeyboardInterrupt\u001b[0m: "
     ]
    }
   ],
   "source": [
    "import time\n",
    "import os\n",
    "import shutil \n",
    "save_path=\"f1/\"\n",
    "ext = \".txt\"\n",
    "i=0\n",
    "while True:\n",
    "    file_name =  os.path.join(save_path, str(i)+ext)\n",
    "    file = open(file_name, 'w')\n",
    "    query = \"INSERT IGNORE INTO tb1 (text1, status) VALUES (%s, %s)\"\n",
    "    val=(str(i)+ext,0)\n",
    "    cur = conn.cursor()\n",
    "    cur.execute(query,val)\n",
    "    conn.commit()\n",
    "    cur.close()\n",
    "    i=i+1\n",
    "    file.close()\n",
    "    time.sleep(1)\n",
    "    if i%5==0:\n",
    "        call_f2(i)"
   ]
  },
  {
   "cell_type": "code",
   "execution_count": null,
   "id": "occupied-sympathy",
   "metadata": {},
   "outputs": [],
   "source": []
  },
  {
   "cell_type": "code",
   "execution_count": null,
   "id": "directed-bones",
   "metadata": {},
   "outputs": [],
   "source": []
  },
  {
   "cell_type": "code",
   "execution_count": 119,
   "id": "amino-opera",
   "metadata": {},
   "outputs": [],
   "source": []
  },
  {
   "cell_type": "code",
   "execution_count": null,
   "id": "boring-tunnel",
   "metadata": {},
   "outputs": [],
   "source": [
    "\n"
   ]
  },
  {
   "cell_type": "code",
   "execution_count": null,
   "id": "canadian-starter",
   "metadata": {},
   "outputs": [],
   "source": [
    "\n",
    "\n"
   ]
  }
 ],
 "metadata": {
  "kernelspec": {
   "display_name": "Python 3",
   "language": "python",
   "name": "python3"
  },
  "language_info": {
   "codemirror_mode": {
    "name": "ipython",
    "version": 3
   },
   "file_extension": ".py",
   "mimetype": "text/x-python",
   "name": "python",
   "nbconvert_exporter": "python",
   "pygments_lexer": "ipython3",
   "version": "3.7.9"
  }
 },
 "nbformat": 4,
 "nbformat_minor": 5
}
